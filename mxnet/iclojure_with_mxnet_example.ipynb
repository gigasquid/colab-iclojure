{
  "nbformat": 4,
  "nbformat_minor": 0,
  "metadata": {
    "colab": {
      "name": "iclojure_with_mxnet-example.ipynb",
      "version": "0.3.2",
      "provenance": [],
      "collapsed_sections": []
    },
    "kernelspec": {
      "display_name": "Clojure",
      "language": "iclojure",
      "name": "iclojure"
    }
  },
  "cells": [
    {
      "metadata": {
        "id": "3Q_koIY3SnDv",
        "colab_type": "text"
      },
      "cell_type": "markdown",
      "source": [
        "# IClojure  MXNet Demo\n",
        "\n",
        "This is a Clojure that has the MXNet depenencies (you need to use the install notebook first)"
      ]
    },
    {
      "metadata": {
        "id": "z2QwPUbVTVtN",
        "colab_type": "code",
        "outputId": "d8088840-2cc9-4308-d1ea-fbb902a49385",
        "colab": {
          "base_uri": "https://localhost:8080/",
          "height": 34
        }
      },
      "cell_type": "code",
      "source": [
        "(+ 1 1)"
      ],
      "execution_count": 4,
      "outputs": [
        {
          "output_type": "execute_result",
          "data": {
            "text/iclojure-html": "<ul><li class='misc'>2</ul>",
            "text/plain": [
              "2\n"
            ],
            "application/octet-stream": null
          },
          "metadata": {
            "tags": []
          },
          "execution_count": 4
        }
      ]
    },
    {
      "metadata": {
        "id": "inMzZdM2cPK-",
        "colab_type": "text"
      },
      "cell_type": "markdown",
      "source": [
        "This cell keeps showing as running even after it's loaded the dependency - don't worry about it :)"
      ]
    },
    {
      "metadata": {
        "id": "m9vCRACNfnPP",
        "colab_type": "code",
        "outputId": "d980fb9c-7a5d-4ac2-8088-6272cc93904d",
        "colab": {
          "base_uri": "https://localhost:8080/",
          "height": 54
        }
      },
      "cell_type": "code",
      "source": [
        "/cp {:paths [\"resources\" \"src\"]\n",
        "     :deps {org.clojure/clojure {:mvn/version \"RELEASE\"}\n",
        "            org.apache.mxnet.contrib.clojure/clojure-mxnet-linux-cpu     {:mvn/version \"1.3.1\"}}}\n"
      ],
      "execution_count": 0,
      "outputs": [
        {
          "output_type": "stream",
          "text": [
            "[\"/root/.m2/repository/org/clojure/clojure/1.10.0/clojure-1.10.0.jar\" \"/root/.m2/repository/org/clojure/tools.logging/0.4.0/tools.logging-0.4.0.jar\" \"/root/.m2/repository/org/clojure/core.specs.alpha/0.2.44/core.specs.alpha-0.2.44.jar\" \"/root/.m2/repository/org/clojure/spec.alpha/0.2.176/spec.alpha-0.2.176.jar\" \"/root/.m2/repository/funcool/cats/1.2.1/cats-1.2.1.jar\" \"/root/.m2/repository/t6/from-scala/0.3.0/from-scala-0.3.0.jar\" \"/root/.m2/repository/org/apache/logging/log4j/log4j-core/2.8.1/log4j-core-2.8.1.jar\" \"/root/.m2/repository/org/slf4j/slf4j-log4j12/1.7.25/slf4j-log4j12-1.7.25.jar\" \"/root/.m2/repository/clj-tuple/clj-tuple/0.2.2/clj-tuple-0.2.2.jar\" \"/root/.m2/repository/riddley/riddley/0.1.12/riddley-0.1.12.jar\" \"/root/.m2/repository/org/apache/mxnet/mxnet-full_2.11-linux-x86_64-cpu/1.3.1/mxnet-full_2.11-linux-x86_64-cpu-1.3.1.jar\" \"/root/.m2/repository/potemkin/potemkin/0.4.3/potemkin-0.4.3.jar\" \"/root/.m2/repository/org/apache/logging/log4j/log4j-api/2.8.1/log4j-api-2.8.1.jar\" \"/root/.m2/repository/log4j/log4j/1.2.17/log4j-1.2.17.jar\" \"/root/.m2/repository/org/apache/mxnet/contrib/clojure/clojure-mxnet-linux-cpu/1.3.1/clojure-mxnet-linux-cpu-1.3.1.jar\"] added to the classpath!"
          ],
          "name": "stdout"
        }
      ]
    },
    {
      "metadata": {
        "id": "--hxGSa_foca",
        "colab_type": "code",
        "outputId": "96fedf11-7a38-40e2-e049-2a90bc346a63",
        "colab": {
          "base_uri": "https://localhost:8080/",
          "height": 34
        }
      },
      "cell_type": "code",
      "source": [
        "(require '[org.apache.clojure-mxnet.ndarray :as ndarray])"
      ],
      "execution_count": 7,
      "outputs": [
        {
          "output_type": "execute_result",
          "data": {
            "text/iclojure-html": "<ul><li class='misc'>nil</ul>",
            "text/plain": [
              "nil\n"
            ],
            "application/octet-stream": null
          },
          "metadata": {
            "tags": []
          },
          "execution_count": 7
        }
      ]
    },
    {
      "metadata": {
        "id": "Bx1BrDnVfvbZ",
        "colab_type": "code",
        "outputId": "342fb45b-b179-4662-abb3-c4f65b7702d1",
        "colab": {
          "base_uri": "https://localhost:8080/",
          "height": 34
        }
      },
      "cell_type": "code",
      "source": [
        "(ndarray/->vec (ndarray/ones [3 1]))"
      ],
      "execution_count": 12,
      "outputs": [
        {
          "output_type": "execute_result",
          "data": {
            "text/iclojure-html": "<ul><li class=vector>[<ul><li class='misc'>1.0<li class=space> <li class='misc'>1.0<li class=space> <li class='misc'>1.0<li class=trail>]</ul></ul>",
            "text/plain": [
              "\u001b[2m[\u001b[22m1.0 1.0 1.0\u001b[2m]\u001b[22m\n"
            ],
            "application/octet-stream": null
          },
          "metadata": {
            "tags": []
          },
          "execution_count": 12
        }
      ]
    }
  ]
}