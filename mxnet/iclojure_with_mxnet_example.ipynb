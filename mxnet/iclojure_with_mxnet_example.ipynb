{
  "nbformat": 4,
  "nbformat_minor": 0,
  "metadata": {
    "colab": {
      "name": "iclojure_with_mxnet-example.ipynb",
      "version": "0.3.2",
      "provenance": [],
      "collapsed_sections": []
    },
    "kernelspec": {
      "display_name": "Clojure",
      "language": "iclojure",
      "name": "iclojure"
    }
  },
  "cells": [
    {
      "metadata": {
        "id": "3Q_koIY3SnDv",
        "colab_type": "text"
      },
      "cell_type": "markdown",
      "source": [
        "# IClojure  MXNet Demo\n",
        "\n",
        "This is a Clojure notebook"
      ]
    },
    {
      "metadata": {
        "id": "z2QwPUbVTVtN",
        "colab_type": "code",
        "outputId": "8bb756e6-2aca-47bf-fae7-badecac995f5",
        "colab": {
          "base_uri": "https://localhost:8080/",
          "height": 34
        }
      },
      "cell_type": "code",
      "source": [
        "(+ 1 1)"
      ],
      "execution_count": 4,
      "outputs": [
        {
          "output_type": "execute_result",
          "data": {
            "text/iclojure-html": "<ul><li class='misc'>2</ul>",
            "text/plain": [
              "2\n"
            ],
            "application/octet-stream": null
          },
          "metadata": {
            "tags": []
          },
          "execution_count": 4
        }
      ]
    },
    {
      "metadata": {
        "id": "inMzZdM2cPK-",
        "colab_type": "text"
      },
      "cell_type": "markdown",
      "source": [
        "This cell keeps showing as running even after it's loaded the dependency - don't worry about it :)"
      ]
    },
    {
      "metadata": {
        "id": "m9vCRACNfnPP",
        "colab_type": "code",
        "outputId": "201ee0e6-d574-4bef-b46f-ff90cd87f8be",
        "colab": {
          "base_uri": "https://localhost:8080/",
          "height": 54
        }
      },
      "cell_type": "code",
      "source": [
        "/cp {:paths [\"resources\" \"src\"]\n",
        "     :deps {org.clojure/clojure {:mvn/version \"RELEASE\"}\n",
        "            org.apache.mxnet.contrib.clojure/clojure-mxnet-linux-cpu     {:mvn/version \"1.3.1\"}}}\n"
      ],
      "execution_count": 0,
      "outputs": [
        {
          "output_type": "stream",
          "text": [
            "[\"/root/.m2/repository/org/clojure/clojure/1.10.0/clojure-1.10.0.jar\" \"/root/.m2/repository/org/clojure/tools.logging/0.4.0/tools.logging-0.4.0.jar\" \"/root/.m2/repository/org/clojure/core.specs.alpha/0.2.44/core.specs.alpha-0.2.44.jar\" \"/root/.m2/repository/org/clojure/spec.alpha/0.2.176/spec.alpha-0.2.176.jar\" \"/root/.m2/repository/funcool/cats/1.2.1/cats-1.2.1.jar\" \"/root/.m2/repository/t6/from-scala/0.3.0/from-scala-0.3.0.jar\" \"/root/.m2/repository/org/apache/logging/log4j/log4j-core/2.8.1/log4j-core-2.8.1.jar\" \"/root/.m2/repository/org/slf4j/slf4j-log4j12/1.7.25/slf4j-log4j12-1.7.25.jar\" \"/root/.m2/repository/clj-tuple/clj-tuple/0.2.2/clj-tuple-0.2.2.jar\" \"/root/.m2/repository/riddley/riddley/0.1.12/riddley-0.1.12.jar\" \"/root/.m2/repository/org/apache/mxnet/mxnet-full_2.11-linux-x86_64-cpu/1.3.1/mxnet-full_2.11-linux-x86_64-cpu-1.3.1.jar\" \"/root/.m2/repository/potemkin/potemkin/0.4.3/potemkin-0.4.3.jar\" \"/root/.m2/repository/org/apache/logging/log4j/log4j-api/2.8.1/log4j-api-2.8.1.jar\" \"/root/.m2/repository/log4j/log4j/1.2.17/log4j-1.2.17.jar\" \"/root/.m2/repository/org/apache/mxnet/contrib/clojure/clojure-mxnet-linux-cpu/1.3.1/clojure-mxnet-linux-cpu-1.3.1.jar\"] added to the classpath!"
          ],
          "name": "stdout"
        }
      ]
    },
    {
      "metadata": {
        "id": "--hxGSa_foca",
        "colab_type": "code",
        "outputId": "75eb74f0-acba-474f-d192-921821660ec9",
        "colab": {
          "base_uri": "https://localhost:8080/",
          "height": 538
        }
      },
      "cell_type": "code",
      "source": [
        "(require '[org.apache.clojure-mxnet.ndarray :as ndarray])"
      ],
      "execution_count": 8,
      "outputs": [
        {
          "output_type": "error",
          "ename": "Oops",
          "evalue": "ignored",
          "traceback": [
            "Exception while doing something unexpected.",
            "#unrepl/browsable\n  \u001b[2m[\u001b[22m\u001b[31m#error\u001b[m\n     \u001b[2m{\u001b[22m\u001b[36m:via\u001b[m \u001b[2m[\u001b[22m\u001b[2m{\u001b[22m\u001b[36m:type\u001b[m clojure.lang.Compiler$CompilerException\u001b[2m,\u001b[22m\n             \u001b[36m:message\u001b[m \"Syntax error compiling at (base.clj:21:19).\"\u001b[2m,\u001b[22m\n             \u001b[36m:data\u001b[m \u001b[2m{\u001b[22m\u001b[36m:clojure.error/phase\u001b[m \u001b[36m:compile-syntax-check\u001b[m\u001b[2m,\u001b[22m\n                    \u001b[36m:clojure.error/line\u001b[m 21\u001b[2m,\u001b[22m \u001b[36m:clojure.error/column\u001b[m 19\u001b[2m,\u001b[22m\n                    \u001b[36m:clojure.error/source\u001b[m \"base.clj\"\u001b[2m}\u001b[22m\u001b[2m,\u001b[22m\n             \u001b[36m:at\u001b[m \u001b[2m[\u001b[22mclojure.lang.Compiler$StaticMethodExpr\n                  eval \"Compiler.java\" 1740\u001b[2m]\u001b[22m\u001b[2m}\u001b[22m\n            \u001b[2m{\u001b[22m\u001b[36m:type\u001b[m java.lang.UnsatisfiedLinkError\u001b[2m,\u001b[22m\n             \u001b[36m:message\u001b[m\n               \"/tmp/mxnet12256003756349244829/mxnet-scala: /usr/lib/x86_64-linux-gnu/libcurl.so\"\u001b[4m/1\u001b[m\u001b[2m,\u001b[22m\n             \u001b[36m:at\u001b[m \u001b[2m[\u001b[22mjava.lang.ClassLoader$NativeLibrary\n                  load0 \"ClassLoader.java\" -2\u001b[2m]\u001b[22m\u001b[2m}\u001b[22m\u001b[2m]\u001b[22m\u001b[2m,\u001b[22m\n      \u001b[36m:trace\u001b[m \u001b[2m[\u001b[22m\u001b[2m[\u001b[22mjava.lang.ClassLoader$NativeLibrary load0 \"ClassLoader.java\" -2\u001b[2m]\u001b[22m\n              \u001b[2m[\u001b[22mjava.lang.ClassLoader$NativeLibrary load \"ClassLoader.java\" 2424\u001b[2m]\u001b[22m\n              \u001b[2m[\u001b[22mjava.lang.ClassLoader$NativeLibrary\n               loadLibrary \"ClassLoader.java\" 2481\u001b[2m]\u001b[22m\n              \u001b[2m[\u001b[22mjava.lang.ClassLoader loadLibrary0 \"ClassLoader.java\" 2678\u001b[2m]\u001b[22m\n              \u001b[2m[\u001b[22mjava.lang.ClassLoader loadLibrary \"ClassLoader.java\" 2611\u001b[2m]\u001b[22m\n              \u001b[2m[\u001b[22mjava.lang.Runtime load0 \"Runtime.java\" 814\u001b[2m]\u001b[22m\n              \u001b[2m[\u001b[22mjava.lang.System load \"System.java\" 1838\u001b[2m]\u001b[22m\n              \u001b[2m[\u001b[22morg.apache.mxnet.util.NativeLibraryLoader$\n               loadLibraryFromStream \"NativeLibraryLoader.scala\" \u001b[4m/2\u001b[m\u001b[2m]\u001b[22m\n              \u001b[4m/3\u001b[m\u001b[2m]\u001b[22m\u001b[2m,\u001b[22m\n      \u001b[4m/4\u001b[m\u001b[2m}\u001b[22m\n   \u001b[4m/5\u001b[m\u001b[2m]\u001b[22m\n"
          ]
        }
      ]
    },
    {
      "metadata": {
        "id": "Bx1BrDnVfvbZ",
        "colab_type": "code",
        "outputId": "33cd92d7-8bbf-49c5-8f7f-0d3da8dd9276",
        "colab": {
          "base_uri": "https://localhost:8080/",
          "height": 34
        }
      },
      "cell_type": "code",
      "source": [
        "(ndarray/->vec (ndarray/ones [3 1]))"
      ],
      "execution_count": 0,
      "outputs": [
        {
          "output_type": "execute_result",
          "data": {
            "text/iclojure-html": "<ul><li class=symbol>fluxCapacitor</ul>",
            "text/plain": [
              "fluxCapacitor\n"
            ],
            "application/octet-stream": null
          },
          "metadata": {
            "tags": []
          },
          "execution_count": 46
        }
      ]
    }
  ]
}