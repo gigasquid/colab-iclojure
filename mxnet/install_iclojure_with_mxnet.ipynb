{
  "nbformat": 4,
  "nbformat_minor": 0,
  "metadata": {
    "colab": {
      "name": "install-iclojure-with-mxnet.ipynb",
      "version": "0.3.2",
      "provenance": [],
      "collapsed_sections": []
    },
    "kernelspec": {
      "name": "python3",
      "display_name": "Python 3"
    }
  },
  "cells": [
    {
      "metadata": {
        "id": "JC2I0AIZY8dy",
        "colab_type": "code",
        "outputId": "59f8a93b-d6fb-4ed3-f52e-0e4787fe5e4c",
        "colab": {
          "base_uri": "https://localhost:8080/",
          "height": 85
        }
      },
      "cell_type": "code",
      "source": [
        "!jupyter-kernelspec list"
      ],
      "execution_count": 1,
      "outputs": [
        {
          "output_type": "stream",
          "text": [
            "Available kernels:\n",
            "  python2    /usr/local/share/jupyter/kernels/python2\n",
            "  python3    /usr/local/share/jupyter/kernels/python3\n",
            "  swift      /usr/local/share/jupyter/kernels/swift\n"
          ],
          "name": "stdout"
        }
      ]
    },
    {
      "metadata": {
        "id": "bTZJn3eqeFRf",
        "colab_type": "text"
      },
      "cell_type": "markdown",
      "source": [
        "First we need to add the iclojure kernel "
      ]
    },
    {
      "metadata": {
        "id": "vGF0uglgZFrm",
        "colab_type": "code",
        "outputId": "c21a29af-b941-4963-bc9c-a0fa967bd075",
        "colab": {
          "base_uri": "https://localhost:8080/",
          "height": 204
        }
      },
      "cell_type": "code",
      "source": [
        "!wget https://raw.githubusercontent.com/technomancy/leiningen/stable/bin/lein; chmod 755 lein; mv lein /usr/local/bin/."
      ],
      "execution_count": 2,
      "outputs": [
        {
          "output_type": "stream",
          "text": [
            "--2019-01-31 01:12:24--  https://raw.githubusercontent.com/technomancy/leiningen/stable/bin/lein\n",
            "Resolving raw.githubusercontent.com (raw.githubusercontent.com)... 151.101.0.133, 151.101.64.133, 151.101.128.133, ...\n",
            "Connecting to raw.githubusercontent.com (raw.githubusercontent.com)|151.101.0.133|:443... connected.\n",
            "HTTP request sent, awaiting response... 200 OK\n",
            "Length: 12538 (12K) [text/plain]\n",
            "Saving to: ‘lein’\n",
            "\n",
            "\rlein                  0%[                    ]       0  --.-KB/s               \rlein                100%[===================>]  12.24K  --.-KB/s    in 0s      \n",
            "\n",
            "2019-01-31 01:12:24 (99.3 MB/s) - ‘lein’ saved [12538/12538]\n",
            "\n"
          ],
          "name": "stdout"
        }
      ]
    },
    {
      "metadata": {
        "id": "_XoDaQe0ZL6D",
        "colab_type": "code",
        "outputId": "d439fdce-48dd-407d-a26b-6cfb600a3f18",
        "colab": {
          "base_uri": "https://localhost:8080/",
          "height": 136
        }
      },
      "cell_type": "code",
      "source": [
        "!git clone https://github.com/HCADatalab/IClojure"
      ],
      "execution_count": 3,
      "outputs": [
        {
          "output_type": "stream",
          "text": [
            "Cloning into 'IClojure'...\n",
            "remote: Enumerating objects: 193, done.\u001b[K\n",
            "remote: Counting objects: 100% (193/193), done.\u001b[K\n",
            "remote: Compressing objects: 100% (103/103), done.\u001b[K\n",
            "remote: Total 193 (delta 82), reused 167 (delta 59), pack-reused 0\u001b[K\n",
            "Receiving objects: 100% (193/193), 505.94 KiB | 2.71 MiB/s, done.\n",
            "Resolving deltas: 100% (82/82), done.\n"
          ],
          "name": "stdout"
        }
      ]
    },
    {
      "metadata": {
        "id": "IGBIgKBmZO_q",
        "colab_type": "code",
        "outputId": "75294d70-118d-4560-c8f9-76e6d91a49b3",
        "colab": {
          "base_uri": "https://localhost:8080/",
          "height": 5236
        }
      },
      "cell_type": "code",
      "source": [
        "!cd IClojure; make; make install; cd .."
      ],
      "execution_count": 4,
      "outputs": [
        {
          "output_type": "stream",
          "text": [
            "lein uberjar\n",
            "Downloading Leiningen to /root/.lein/self-installs/leiningen-2.8.3-standalone.jar now...\n",
            "  % Total    % Received % Xferd  Average Speed   Time    Time     Time  Current\n",
            "                                 Dload  Upload   Total   Spent    Left  Speed\n",
            "100   618    0   618    0     0   1745      0 --:--:-- --:--:-- --:--:--  1745\n",
            "100 12.9M  100 12.9M    0     0  4432k      0  0:00:02  0:00:02 --:--:-- 6447k\n",
            "Retrieving beckon/beckon/0.1.1/beckon-0.1.1.pom from clojars\n",
            "Retrieving org/clojure/clojure/1.5.1/clojure-1.5.1.pom from central\n",
            "Retrieving org/sonatype/oss/oss-parent/5/oss-parent-5.pom from central\n",
            "Retrieving cheshire/cheshire/5.7.0/cheshire-5.7.0.pom from clojars\n",
            "Retrieving com/fasterxml/jackson/core/jackson-core/2.8.6/jackson-core-2.8.6.pom from central\n",
            "Retrieving com/fasterxml/jackson/jackson-parent/2.8/jackson-parent-2.8.pom from central\n",
            "Retrieving com/fasterxml/oss-parent/27/oss-parent-27.pom from central\n",
            "Retrieving com/fasterxml/jackson/dataformat/jackson-dataformat-smile/2.8.6/jackson-dataformat-smile-2.8.6.pom from central\n",
            "Retrieving com/fasterxml/jackson/dataformat/jackson-dataformats-binary/2.8.6/jackson-dataformats-binary-2.8.6.pom from central\n",
            "Retrieving com/fasterxml/jackson/dataformat/jackson-dataformat-cbor/2.8.6/jackson-dataformat-cbor-2.8.6.pom from central\n",
            "Retrieving tigris/tigris/0.1.1/tigris-0.1.1.pom from clojars\n",
            "Retrieving clj-time/clj-time/0.11.0/clj-time-0.11.0.pom from clojars\n",
            "Retrieving joda-time/joda-time/2.8.2/joda-time-2.8.2.pom from central\n",
            "Retrieving org/clojure/clojure/1.7.0/clojure-1.7.0.pom from central\n",
            "Retrieving org/sonatype/oss/oss-parent/7/oss-parent-7.pom from central\n",
            "Retrieving com/taoensso/timbre/4.8.0/timbre-4.8.0.pom from clojars\n",
            "Retrieving com/taoensso/encore/2.88.0/encore-2.88.0.pom from clojars\n",
            "Retrieving org/clojure/tools.reader/0.10.0/tools.reader-0.10.0.pom from central\n",
            "Retrieving org/clojure/pom.contrib/0.1.2/pom.contrib-0.1.2.pom from central\n",
            "Retrieving org/clojure/clojure/1.4.0/clojure-1.4.0.pom from central\n",
            "Retrieving com/taoensso/truss/1.3.6/truss-1.3.6.pom from clojars\n",
            "Retrieving io/aviso/pretty/0.1.33/pretty-0.1.33.pom from clojars\n",
            "Retrieving org/clojure/clojure/1.5.0/clojure-1.5.0.pom from central\n",
            "Retrieving org/clojure/clojure/1.10.0/clojure-1.10.0.pom from central\n",
            "Retrieving org/clojure/spec.alpha/0.2.176/spec.alpha-0.2.176.pom from central\n",
            "Retrieving org/clojure/pom.contrib/0.2.2/pom.contrib-0.2.2.pom from central\n",
            "Retrieving org/clojure/core.specs.alpha/0.2.44/core.specs.alpha-0.2.44.pom from central\n",
            "Retrieving org/clojure/core.async/0.4.474/core.async-0.4.474.pom from central\n",
            "Retrieving org/clojure/tools.analyzer.jvm/0.7.0/tools.analyzer.jvm-0.7.0.pom from central\n",
            "Retrieving org/clojure/pom.contrib/0.2.0/pom.contrib-0.2.0.pom from central\n",
            "Retrieving org/clojure/tools.analyzer/0.6.9/tools.analyzer-0.6.9.pom from central\n",
            "Retrieving org/clojure/core.memoize/0.5.9/core.memoize-0.5.9.pom from central\n",
            "Retrieving org/clojure/core.cache/0.6.5/core.cache-0.6.5.pom from central\n",
            "Retrieving org/clojure/data.priority-map/0.0.7/data.priority-map-0.0.7.pom from central\n",
            "Retrieving org/ow2/asm/asm-all/4.2/asm-all-4.2.pom from central\n",
            "Retrieving org/ow2/asm/asm-parent/4.2/asm-parent-4.2.pom from central\n",
            "Retrieving org/ow2/ow2/1.3/ow2-1.3.pom from central\n",
            "Retrieving org/clojure/tools.reader/1.0.0-beta4/tools.reader-1.0.0-beta4.pom from central\n",
            "Retrieving org/clojure/data.codec/0.1.0/data.codec-0.1.0.pom from central\n",
            "Retrieving org/clojure/pom.contrib/0.0.25/pom.contrib-0.0.25.pom from central\n",
            "Retrieving org/clojure/clojure/1.3.0/clojure-1.3.0.pom from central\n",
            "Retrieving org/zeromq/cljzmq/0.1.4/cljzmq-0.1.4.pom from central\n",
            "Retrieving org/zeromq/jeromq/0.3.4/jeromq-0.3.4.pom from central\n",
            "Retrieving net/cgrand/packed-printer/0.3.0/packed-printer-0.3.0.pom from clojars\n",
            "Retrieving net/cgrand/xforms/0.19.0/xforms-0.19.0.pom from clojars\n",
            "Retrieving net/cgrand/macrovich/0.2.0/macrovich-0.2.0.pom from clojars\n",
            "Retrieving org/clojure/clojure/1.8.0/clojure-1.8.0.pom from central\n",
            "Retrieving org/clojure/clojurescript/1.9.293/clojurescript-1.9.293.pom from central\n",
            "Retrieving com/google/javascript/closure-compiler-unshaded/v20160911/closure-compiler-unshaded-v20160911.pom from central\n",
            "Retrieving com/google/javascript/closure-compiler-main/v20160911/closure-compiler-main-v20160911.pom from central\n",
            "Retrieving com/google/javascript/closure-compiler-parent/v20160911/closure-compiler-parent-v20160911.pom from central\n",
            "Retrieving org/sonatype/oss/oss-parent/9/oss-parent-9.pom from central\n",
            "Retrieving com/google/javascript/closure-compiler-externs/v20160911/closure-compiler-externs-v20160911.pom from central\n",
            "Retrieving args4j/args4j/2.0.26/args4j-2.0.26.pom from central\n",
            "Retrieving args4j/args4j-site/2.0.26/args4j-site-2.0.26.pom from central\n",
            "Retrieving org/kohsuke/pom/6/pom-6.pom from central\n",
            "Retrieving com/google/guava/guava/19.0/guava-19.0.pom from central\n",
            "Retrieving com/google/guava/guava-parent/19.0/guava-parent-19.0.pom from central\n",
            "Retrieving com/google/protobuf/protobuf-java/2.5.0/protobuf-java-2.5.0.pom from central\n",
            "Retrieving com/google/google/1/google-1.pom from central\n",
            "Retrieving com/google/code/gson/gson/2.2.4/gson-2.2.4.pom from central\n",
            "Retrieving com/google/code/findbugs/jsr305/1.3.9/jsr305-1.3.9.pom from central\n",
            "Retrieving com/google/jsinterop/jsinterop-annotations/1.0.0/jsinterop-annotations-1.0.0.pom from central\n",
            "Retrieving com/google/jsinterop/jsinterop/1.0.0/jsinterop-1.0.0.pom from central\n",
            "Retrieving org/sonatype/oss/oss-parent/4/oss-parent-4.pom from central\n",
            "Retrieving org/clojure/google-closure-library/0.0-20160609-f42b4a24/google-closure-library-0.0-20160609-f42b4a24.pom from central\n",
            "Retrieving org/clojure/google-closure-library-third-party/0.0-20160609-f42b4a24/google-closure-library-third-party-0.0-20160609-f42b4a24.pom from central\n",
            "Retrieving org/clojure/data.json/0.2.6/data.json-0.2.6.pom from central\n",
            "Retrieving org/mozilla/rhino/1.7R5/rhino-1.7R5.pom from central\n",
            "Retrieving org/clojure/tools.reader/1.0.0-beta3/tools.reader-1.0.0-beta3.pom from central\n",
            "Retrieving pandect/pandect/0.5.4/pandect-0.5.4.pom from clojars\n",
            "Retrieving potemkin/potemkin/0.4.1/potemkin-0.4.1.pom from clojars\n",
            "Retrieving clj-tuple/clj-tuple/0.2.2/clj-tuple-0.2.2.pom from clojars\n",
            "Retrieving riddley/riddley/0.1.10/riddley-0.1.10.pom from clojars\n",
            "Retrieving org/bouncycastle/bcprov-jdk15on/1.52/bcprov-jdk15on-1.52.pom from central\n",
            "Retrieving org/clojure/tools.deps.alpha/0.5.417/tools.deps.alpha-0.5.417.pom from central\n",
            "Retrieving org/apache/maven/resolver/maven-resolver-api/1.1.1/maven-resolver-api-1.1.1.pom from central\n",
            "Retrieving org/apache/maven/resolver/maven-resolver/1.1.1/maven-resolver-1.1.1.pom from central\n",
            "Retrieving org/apache/maven/maven-parent/31/maven-parent-31.pom from central\n",
            "Retrieving org/apache/apache/19/apache-19.pom from central\n",
            "Retrieving org/apache/maven/resolver/maven-resolver-spi/1.1.1/maven-resolver-spi-1.1.1.pom from central\n",
            "Retrieving org/apache/maven/resolver/maven-resolver-impl/1.1.1/maven-resolver-impl-1.1.1.pom from central\n",
            "Retrieving org/apache/maven/resolver/maven-resolver-util/1.1.1/maven-resolver-util-1.1.1.pom from central\n",
            "Retrieving org/apache/maven/resolver/maven-resolver-connector-basic/1.1.1/maven-resolver-connector-basic-1.1.1.pom from central\n",
            "Retrieving org/apache/maven/resolver/maven-resolver-transport-file/1.1.1/maven-resolver-transport-file-1.1.1.pom from central\n",
            "Retrieving org/apache/maven/resolver/maven-resolver-transport-http/1.1.1/maven-resolver-transport-http-1.1.1.pom from central\n",
            "Retrieving org/apache/httpcomponents/httpclient/4.5.4/httpclient-4.5.4.pom from central\n",
            "Retrieving org/apache/httpcomponents/httpcomponents-client/4.5.4/httpcomponents-client-4.5.4.pom from central\n",
            "Retrieving org/apache/httpcomponents/httpcomponents-parent/10/httpcomponents-parent-10.pom from central\n",
            "Retrieving org/apache/apache/18/apache-18.pom from central\n",
            "Retrieving org/apache/httpcomponents/httpcore/4.4.7/httpcore-4.4.7.pom from central\n",
            "Retrieving org/apache/httpcomponents/httpcomponents-core/4.4.7/httpcomponents-core-4.4.7.pom from central\n",
            "Retrieving org/apache/httpcomponents/project/8/project-8.pom from central\n",
            "Retrieving commons-codec/commons-codec/1.10/commons-codec-1.10.pom from central\n",
            "Retrieving org/apache/commons/commons-parent/35/commons-parent-35.pom from central\n",
            "Retrieving org/apache/apache/15/apache-15.pom from central\n",
            "Retrieving org/apache/httpcomponents/httpcore/4.4.8/httpcore-4.4.8.pom from central\n",
            "Retrieving org/apache/httpcomponents/httpcomponents-core/4.4.8/httpcomponents-core-4.4.8.pom from central\n",
            "Retrieving org/apache/httpcomponents/httpcomponents-parent/9/httpcomponents-parent-9.pom from central\n",
            "Retrieving org/slf4j/jcl-over-slf4j/1.7.25/jcl-over-slf4j-1.7.25.pom from central\n",
            "Retrieving org/slf4j/slf4j-parent/1.7.25/slf4j-parent-1.7.25.pom from central\n",
            "Retrieving org/slf4j/slf4j-api/1.7.25/slf4j-api-1.7.25.pom from central\n",
            "Retrieving org/apache/maven/resolver/maven-resolver-transport-wagon/1.1.1/maven-resolver-transport-wagon-1.1.1.pom from central\n",
            "Retrieving org/apache/maven/wagon/wagon-provider-api/3.0.0/wagon-provider-api-3.0.0.pom from central\n",
            "Retrieving org/apache/maven/wagon/wagon/3.0.0/wagon-3.0.0.pom from central\n",
            "Retrieving org/apache/maven/maven-parent/27/maven-parent-27.pom from central\n",
            "Retrieving org/apache/apache/17/apache-17.pom from central\n",
            "Retrieving org/codehaus/plexus/plexus-utils/3.0.24/plexus-utils-3.0.24.pom from central\n",
            "Retrieving org/codehaus/plexus/plexus/4.0/plexus-4.0.pom from central\n",
            "Retrieving org/sonatype/forge/forge-parent/10/forge-parent-10.pom from central\n",
            "Retrieving org/apache/maven/maven-resolver-provider/3.5.2/maven-resolver-provider-3.5.2.pom from central\n",
            "Retrieving org/apache/maven/maven/3.5.2/maven-3.5.2.pom from central\n",
            "Retrieving org/apache/maven/maven-model/3.5.2/maven-model-3.5.2.pom from central\n",
            "Retrieving org/codehaus/plexus/plexus-utils/3.1.0/plexus-utils-3.1.0.pom from central\n",
            "Retrieving org/apache/commons/commons-lang3/3.5/commons-lang3-3.5.pom from central\n",
            "Retrieving org/apache/commons/commons-parent/41/commons-parent-41.pom from central\n",
            "Retrieving org/apache/maven/maven-model-builder/3.5.2/maven-model-builder-3.5.2.pom from central\n",
            "Retrieving org/codehaus/plexus/plexus-interpolation/1.24/plexus-interpolation-1.24.pom from central\n",
            "Retrieving org/codehaus/plexus/plexus-component-annotations/1.7.1/plexus-component-annotations-1.7.1.pom from central\n",
            "Retrieving org/codehaus/plexus/plexus-containers/1.7.1/plexus-containers-1.7.1.pom from central\n",
            "Retrieving org/apache/maven/maven-artifact/3.5.2/maven-artifact-3.5.2.pom from central\n",
            "Retrieving org/apache/maven/maven-builder-support/3.5.2/maven-builder-support-3.5.2.pom from central\n",
            "Retrieving com/google/guava/guava/20.0/guava-20.0.pom from central\n",
            "Retrieving com/google/guava/guava-parent/20.0/guava-parent-20.0.pom from central\n",
            "Retrieving org/apache/maven/maven-repository-metadata/3.5.2/maven-repository-metadata-3.5.2.pom from central\n",
            "Retrieving org/apache/maven/resolver/maven-resolver-api/1.1.0/maven-resolver-api-1.1.0.pom from central\n",
            "Retrieving org/apache/maven/resolver/maven-resolver/1.1.0/maven-resolver-1.1.0.pom from central\n",
            "Retrieving org/apache/maven/maven-parent/30/maven-parent-30.pom from central\n",
            "Retrieving org/apache/maven/resolver/maven-resolver-spi/1.1.0/maven-resolver-spi-1.1.0.pom from central\n",
            "Retrieving org/apache/maven/resolver/maven-resolver-util/1.1.0/maven-resolver-util-1.1.0.pom from central\n",
            "Retrieving org/apache/maven/resolver/maven-resolver-impl/1.1.0/maven-resolver-impl-1.1.0.pom from central\n",
            "Retrieving javax/inject/javax.inject/1/javax.inject-1.pom from central\n",
            "Retrieving org/slf4j/slf4j-nop/1.6.2/slf4j-nop-1.6.2.pom from central\n",
            "Retrieving org/slf4j/slf4j-parent/1.6.2/slf4j-parent-1.6.2.pom from central\n",
            "Retrieving org/slf4j/slf4j-api/1.6.2/slf4j-api-1.6.2.pom from central\n",
            "Retrieving org/clojure/data.xml/0.2.0-alpha5/data.xml-0.2.0-alpha5.pom from central\n",
            "Retrieving s3-wagon-private/s3-wagon-private/1.3.1/s3-wagon-private-1.3.1.pom from clojars\n",
            "Retrieving com/amazonaws/aws-java-sdk-bom/1.11.184/aws-java-sdk-bom-1.11.184.pom from central\n",
            "Retrieving com/amazonaws/aws-java-sdk-pom/1.11.184/aws-java-sdk-pom-1.11.184.pom from central\n",
            "Retrieving org/springframework/build/aws-maven/4.8.0.RELEASE/aws-maven-4.8.0.RELEASE.pom from central\n",
            "Retrieving org/slf4j/jcl-over-slf4j/1.7.5/jcl-over-slf4j-1.7.5.pom from central\n",
            "Retrieving org/slf4j/slf4j-parent/1.7.5/slf4j-parent-1.7.5.pom from central\n",
            "Retrieving org/slf4j/slf4j-api/1.7.5/slf4j-api-1.7.5.pom from central\n",
            "Retrieving com/amazonaws/aws-java-sdk-s3/1.11.184/aws-java-sdk-s3-1.11.184.pom from central\n",
            "Retrieving com/amazonaws/aws-java-sdk-kms/1.11.184/aws-java-sdk-kms-1.11.184.pom from central\n",
            "Retrieving com/amazonaws/aws-java-sdk-core/1.11.184/aws-java-sdk-core-1.11.184.pom from central\n",
            "Retrieving commons-logging/commons-logging/1.1.3/commons-logging-1.1.3.pom from central\n",
            "Retrieving org/apache/commons/commons-parent/28/commons-parent-28.pom from central\n",
            "Retrieving org/apache/apache/13/apache-13.pom from central\n",
            "Retrieving org/apache/httpcomponents/httpclient/4.5.2/httpclient-4.5.2.pom from central\n",
            "Retrieving org/apache/httpcomponents/httpcomponents-client/4.5.2/httpcomponents-client-4.5.2.pom from central\n",
            "Retrieving org/apache/httpcomponents/project/7/project-7.pom from central\n",
            "Retrieving org/apache/httpcomponents/httpcore/4.4.4/httpcore-4.4.4.pom from central\n",
            "Retrieving org/apache/httpcomponents/httpcomponents-core/4.4.4/httpcomponents-core-4.4.4.pom from central\n",
            "Retrieving commons-logging/commons-logging/1.2/commons-logging-1.2.pom from central\n",
            "Retrieving org/apache/commons/commons-parent/34/commons-parent-34.pom from central\n",
            "Retrieving commons-codec/commons-codec/1.9/commons-codec-1.9.pom from central\n",
            "Retrieving org/apache/commons/commons-parent/32/commons-parent-32.pom from central\n",
            "Retrieving software/amazon/ion/ion-java/1.0.2/ion-java-1.0.2.pom from central\n",
            "Retrieving com/fasterxml/jackson/dataformat/jackson-dataformat-cbor/2.6.7/jackson-dataformat-cbor-2.6.7.pom from central\n",
            "Retrieving com/fasterxml/jackson/jackson-parent/2.6.2/jackson-parent-2.6.2.pom from central\n",
            "Retrieving com/fasterxml/oss-parent/24/oss-parent-24.pom from central\n",
            "Retrieving joda-time/joda-time/2.8.1/joda-time-2.8.1.pom from central\n",
            "Retrieving com/amazonaws/jmespath-java/1.11.184/jmespath-java-1.11.184.pom from central\n",
            "Retrieving com/fasterxml/jackson/core/jackson-core/2.5.5/jackson-core-2.5.5.pom from central\n",
            "Retrieving com/fasterxml/jackson/jackson-parent/2.5.1/jackson-parent-2.5.1.pom from central\n",
            "Retrieving com/fasterxml/oss-parent/19/oss-parent-19.pom from central\n",
            "Retrieving com/fasterxml/jackson/core/jackson-databind/2.5.5/jackson-databind-2.5.5.pom from central\n",
            "Retrieving com/fasterxml/jackson/core/jackson-annotations/2.5.0/jackson-annotations-2.5.0.pom from central\n",
            "Retrieving com/fasterxml/jackson/jackson-parent/2.5/jackson-parent-2.5.pom from central\n",
            "Retrieving com/fasterxml/oss-parent/18/oss-parent-18.pom from central\n",
            "Retrieving org/clojure/tools.gitlibs/0.2.64/tools.gitlibs-0.2.64.pom from central\n",
            "Retrieving org/eclipse/jgit/org.eclipse.jgit/4.10.0.201712302008-r/org.eclipse.jgit-4.10.0.201712302008-r.pom from central\n",
            "Retrieving org/eclipse/jgit/org.eclipse.jgit-parent/4.10.0.201712302008-r/org.eclipse.jgit-parent-4.10.0.201712302008-r.pom from central\n",
            "Retrieving com/jcraft/jsch/0.1.54/jsch-0.1.54.pom from central\n",
            "Retrieving org/sonatype/oss/oss-parent/6/oss-parent-6.pom from central\n",
            "Retrieving com/googlecode/javaewah/JavaEWAH/1.1.6/JavaEWAH-1.1.6.pom from central\n",
            "Retrieving org/slf4j/slf4j-api/1.7.2/slf4j-api-1.7.2.pom from central\n",
            "Retrieving org/slf4j/slf4j-parent/1.7.2/slf4j-parent-1.7.2.pom from central\n",
            "Retrieving com/jcraft/jsch.agentproxy.connector-factory/0.0.9/jsch.agentproxy.connector-factory-0.0.9.pom from central\n",
            "Retrieving com/jcraft/jsch.agentproxy/0.0.9/jsch.agentproxy-0.0.9.pom from central\n",
            "Retrieving com/jcraft/jsch.agentproxy.core/0.0.9/jsch.agentproxy.core-0.0.9.pom from central\n",
            "Retrieving com/jcraft/jsch.agentproxy.usocket-jna/0.0.9/jsch.agentproxy.usocket-jna-0.0.9.pom from central\n",
            "Retrieving net/java/dev/jna/jna/4.1.0/jna-4.1.0.pom from central\n",
            "Retrieving net/java/dev/jna/jna-platform/4.1.0/jna-platform-4.1.0.pom from central\n",
            "Retrieving com/jcraft/jsch.agentproxy.usocket-nc/0.0.9/jsch.agentproxy.usocket-nc-0.0.9.pom from central\n",
            "Retrieving com/jcraft/jsch.agentproxy.sshagent/0.0.9/jsch.agentproxy.sshagent-0.0.9.pom from central\n",
            "Retrieving com/jcraft/jsch.agentproxy.pageant/0.0.9/jsch.agentproxy.pageant-0.0.9.pom from central\n",
            "Retrieving com/jcraft/jsch.agentproxy.jsch/0.0.9/jsch.agentproxy.jsch-0.0.9.pom from central\n",
            "Retrieving com/jcraft/jsch/0.1.49/jsch-0.1.49.pom from central\n",
            "Retrieving org/clojure/tools.cli/0.3.5/tools.cli-0.3.5.pom from central\n",
            "Retrieving com/fasterxml/jackson/core/jackson-core/2.8.6/jackson-core-2.8.6.jar from central\n",
            "Retrieving com/fasterxml/jackson/dataformat/jackson-dataformat-smile/2.8.6/jackson-dataformat-smile-2.8.6.jar from central\n",
            "Retrieving com/fasterxml/jackson/dataformat/jackson-dataformat-cbor/2.8.6/jackson-dataformat-cbor-2.8.6.jar from central\n",
            "Retrieving joda-time/joda-time/2.8.2/joda-time-2.8.2.jar from central\n",
            "Retrieving org/clojure/tools.reader/0.10.0/tools.reader-0.10.0.jar from central\n",
            "Retrieving org/clojure/core.async/0.4.474/core.async-0.4.474.jar from central\n",
            "Retrieving org/clojure/spec.alpha/0.2.176/spec.alpha-0.2.176.jar from central\n",
            "Retrieving org/clojure/core.specs.alpha/0.2.44/core.specs.alpha-0.2.44.jar from central\n",
            "Retrieving org/clojure/clojure/1.10.0/clojure-1.10.0.jar from central\n",
            "Retrieving org/clojure/tools.analyzer.jvm/0.7.0/tools.analyzer.jvm-0.7.0.jar from central\n",
            "Retrieving org/clojure/tools.analyzer/0.6.9/tools.analyzer-0.6.9.jar from central\n",
            "Retrieving org/clojure/core.memoize/0.5.9/core.memoize-0.5.9.jar from central\n",
            "Retrieving org/clojure/core.cache/0.6.5/core.cache-0.6.5.jar from central\n",
            "Retrieving org/clojure/data.priority-map/0.0.7/data.priority-map-0.0.7.jar from central\n",
            "Retrieving org/ow2/asm/asm-all/4.2/asm-all-4.2.jar from central\n",
            "Retrieving org/clojure/data.codec/0.1.0/data.codec-0.1.0.jar from central\n",
            "Retrieving org/zeromq/cljzmq/0.1.4/cljzmq-0.1.4.jar from central\n",
            "Retrieving org/zeromq/jeromq/0.3.4/jeromq-0.3.4.jar from central\n",
            "Retrieving com/google/javascript/closure-compiler-externs/v20160911/closure-compiler-externs-v20160911.jar from central\n",
            "Retrieving org/clojure/clojurescript/1.9.293/clojurescript-1.9.293.jar from central\n",
            "Retrieving args4j/args4j/2.0.26/args4j-2.0.26.jar from central\n",
            "Retrieving com/google/protobuf/protobuf-java/2.5.0/protobuf-java-2.5.0.jar from central\n",
            "Retrieving com/google/code/gson/gson/2.2.4/gson-2.2.4.jar from central\n",
            "Retrieving com/google/javascript/closure-compiler-unshaded/v20160911/closure-compiler-unshaded-v20160911.jar from central\n",
            "Retrieving com/google/code/findbugs/jsr305/1.3.9/jsr305-1.3.9.jar from central\n",
            "Retrieving com/google/jsinterop/jsinterop-annotations/1.0.0/jsinterop-annotations-1.0.0.jar from central\n",
            "Retrieving org/clojure/google-closure-library/0.0-20160609-f42b4a24/google-closure-library-0.0-20160609-f42b4a24.jar from central\n",
            "Retrieving org/clojure/google-closure-library-third-party/0.0-20160609-f42b4a24/google-closure-library-third-party-0.0-20160609-f42b4a24.jar from central\n",
            "Retrieving org/clojure/data.json/0.2.6/data.json-0.2.6.jar from central\n",
            "Retrieving org/mozilla/rhino/1.7R5/rhino-1.7R5.jar from central\n",
            "Retrieving org/bouncycastle/bcprov-jdk15on/1.52/bcprov-jdk15on-1.52.jar from central\n",
            "Retrieving org/clojure/tools.deps.alpha/0.5.417/tools.deps.alpha-0.5.417.jar from central\n",
            "Retrieving org/apache/maven/resolver/maven-resolver-api/1.1.1/maven-resolver-api-1.1.1.jar from central\n",
            "Retrieving org/apache/maven/resolver/maven-resolver-spi/1.1.1/maven-resolver-spi-1.1.1.jar from central\n",
            "Retrieving org/apache/maven/resolver/maven-resolver-impl/1.1.1/maven-resolver-impl-1.1.1.jar from central\n",
            "Retrieving org/apache/maven/resolver/maven-resolver-util/1.1.1/maven-resolver-util-1.1.1.jar from central\n",
            "Retrieving org/apache/maven/resolver/maven-resolver-connector-basic/1.1.1/maven-resolver-connector-basic-1.1.1.jar from central\n",
            "Retrieving org/apache/maven/resolver/maven-resolver-transport-file/1.1.1/maven-resolver-transport-file-1.1.1.jar from central\n",
            "Retrieving org/apache/maven/resolver/maven-resolver-transport-http/1.1.1/maven-resolver-transport-http-1.1.1.jar from central\n",
            "Retrieving org/apache/httpcomponents/httpclient/4.5.4/httpclient-4.5.4.jar from central\n",
            "Retrieving commons-codec/commons-codec/1.10/commons-codec-1.10.jar from central\n",
            "Retrieving org/apache/httpcomponents/httpcore/4.4.8/httpcore-4.4.8.jar from central\n",
            "Retrieving org/slf4j/jcl-over-slf4j/1.7.25/jcl-over-slf4j-1.7.25.jar from central\n",
            "Retrieving org/apache/maven/resolver/maven-resolver-transport-wagon/1.1.1/maven-resolver-transport-wagon-1.1.1.jar from central\n",
            "Retrieving org/apache/maven/wagon/wagon-provider-api/3.0.0/wagon-provider-api-3.0.0.jar from central\n",
            "Retrieving org/apache/maven/maven-resolver-provider/3.5.2/maven-resolver-provider-3.5.2.jar from central\n",
            "Retrieving org/apache/maven/maven-model/3.5.2/maven-model-3.5.2.jar from central\n",
            "Retrieving org/apache/maven/maven-model-builder/3.5.2/maven-model-builder-3.5.2.jar from central\n",
            "Retrieving org/codehaus/plexus/plexus-interpolation/1.24/plexus-interpolation-1.24.jar from central\n",
            "Retrieving org/codehaus/plexus/plexus-component-annotations/1.7.1/plexus-component-annotations-1.7.1.jar from central\n",
            "Retrieving org/apache/maven/maven-artifact/3.5.2/maven-artifact-3.5.2.jar from central\n",
            "Retrieving org/apache/maven/maven-builder-support/3.5.2/maven-builder-support-3.5.2.jar from central\n",
            "Retrieving org/apache/maven/maven-repository-metadata/3.5.2/maven-repository-metadata-3.5.2.jar from central\n",
            "Retrieving org/codehaus/plexus/plexus-utils/3.1.0/plexus-utils-3.1.0.jar from central\n",
            "Retrieving javax/inject/javax.inject/1/javax.inject-1.jar from central\n",
            "Retrieving com/google/guava/guava/20.0/guava-20.0.jar from central\n",
            "Retrieving org/apache/commons/commons-lang3/3.5/commons-lang3-3.5.jar from central\n",
            "Retrieving org/slf4j/slf4j-nop/1.6.2/slf4j-nop-1.6.2.jar from central\n",
            "Retrieving org/slf4j/slf4j-api/1.6.2/slf4j-api-1.6.2.jar from central\n",
            "Retrieving org/clojure/data.xml/0.2.0-alpha5/data.xml-0.2.0-alpha5.jar from central\n",
            "Retrieving org/springframework/build/aws-maven/4.8.0.RELEASE/aws-maven-4.8.0.RELEASE.jar from central\n",
            "Retrieving com/amazonaws/aws-java-sdk-kms/1.11.184/aws-java-sdk-kms-1.11.184.jar from central\n",
            "Retrieving com/amazonaws/aws-java-sdk-s3/1.11.184/aws-java-sdk-s3-1.11.184.jar from central\n",
            "Retrieving com/amazonaws/aws-java-sdk-core/1.11.184/aws-java-sdk-core-1.11.184.jar from central\n",
            "Retrieving commons-logging/commons-logging/1.1.3/commons-logging-1.1.3.jar from central\n",
            "Retrieving software/amazon/ion/ion-java/1.0.2/ion-java-1.0.2.jar from central\n",
            "Retrieving com/amazonaws/jmespath-java/1.11.184/jmespath-java-1.11.184.jar from central\n",
            "Retrieving com/fasterxml/jackson/core/jackson-databind/2.5.5/jackson-databind-2.5.5.jar from central\n",
            "Retrieving com/fasterxml/jackson/core/jackson-annotations/2.5.0/jackson-annotations-2.5.0.jar from central\n",
            "Retrieving org/clojure/tools.gitlibs/0.2.64/tools.gitlibs-0.2.64.jar from central\n",
            "Retrieving org/eclipse/jgit/org.eclipse.jgit/4.10.0.201712302008-r/org.eclipse.jgit-4.10.0.201712302008-r.jar from central\n",
            "Retrieving com/jcraft/jsch/0.1.54/jsch-0.1.54.jar from central\n",
            "Retrieving com/googlecode/javaewah/JavaEWAH/1.1.6/JavaEWAH-1.1.6.jar from central\n",
            "Retrieving com/jcraft/jsch.agentproxy.connector-factory/0.0.9/jsch.agentproxy.connector-factory-0.0.9.jar from central\n",
            "Retrieving com/jcraft/jsch.agentproxy.core/0.0.9/jsch.agentproxy.core-0.0.9.jar from central\n",
            "Retrieving com/jcraft/jsch.agentproxy.usocket-jna/0.0.9/jsch.agentproxy.usocket-jna-0.0.9.jar from central\n",
            "Retrieving net/java/dev/jna/jna/4.1.0/jna-4.1.0.jar from central\n",
            "Retrieving net/java/dev/jna/jna-platform/4.1.0/jna-platform-4.1.0.jar from central\n",
            "Retrieving com/jcraft/jsch.agentproxy.usocket-nc/0.0.9/jsch.agentproxy.usocket-nc-0.0.9.jar from central\n",
            "Retrieving com/jcraft/jsch.agentproxy.sshagent/0.0.9/jsch.agentproxy.sshagent-0.0.9.jar from central\n",
            "Retrieving com/jcraft/jsch.agentproxy.pageant/0.0.9/jsch.agentproxy.pageant-0.0.9.jar from central\n",
            "Retrieving com/jcraft/jsch.agentproxy.jsch/0.0.9/jsch.agentproxy.jsch-0.0.9.jar from central\n",
            "Retrieving org/clojure/tools.cli/0.3.5/tools.cli-0.3.5.jar from central\n",
            "Retrieving tigris/tigris/0.1.1/tigris-0.1.1.jar from clojars\n",
            "Retrieving com/taoensso/timbre/4.8.0/timbre-4.8.0.jar from clojars\n",
            "Retrieving beckon/beckon/0.1.1/beckon-0.1.1.jar from clojars\n",
            "Retrieving clj-time/clj-time/0.11.0/clj-time-0.11.0.jar from clojars\n",
            "Retrieving com/taoensso/encore/2.88.0/encore-2.88.0.jar from clojars\n",
            "Retrieving cheshire/cheshire/5.7.0/cheshire-5.7.0.jar from clojars\n",
            "Retrieving com/taoensso/truss/1.3.6/truss-1.3.6.jar from clojars\n",
            "Retrieving net/cgrand/packed-printer/0.3.0/packed-printer-0.3.0.jar from clojars\n",
            "Retrieving net/cgrand/macrovich/0.2.0/macrovich-0.2.0.jar from clojars\n",
            "Retrieving net/cgrand/xforms/0.19.0/xforms-0.19.0.jar from clojars\n",
            "Retrieving io/aviso/pretty/0.1.33/pretty-0.1.33.jar from clojars\n",
            "Retrieving pandect/pandect/0.5.4/pandect-0.5.4.jar from clojars\n",
            "Retrieving clj-tuple/clj-tuple/0.2.2/clj-tuple-0.2.2.jar from clojars\n",
            "Retrieving s3-wagon-private/s3-wagon-private/1.3.1/s3-wagon-private-1.3.1.jar from clojars\n",
            "Retrieving potemkin/potemkin/0.4.1/potemkin-0.4.1.jar from clojars\n",
            "Retrieving riddley/riddley/0.1.10/riddley-0.1.10.jar from clojars\n",
            "Compiling iclj.core\n",
            "WARNING: intern already refers to: #'clojure.core/intern in namespace: iclj.unrepl.elisions, being replaced by: #'iclj.unrepl.elisions/intern\n",
            "Compiling iclj.core\n",
            "Created /content/IClojure/target/iclojure-0.3.0-SNAPSHOT.jar\n",
            "Created /content/IClojure/target/iclojure-0.3.0-SNAPSHOT-standalone.jar\n",
            "cat bin/iclj.template $(find . -maxdepth 2 -type f | grep -e \".*standalone.*\\.jar\") > bin/iclj\n",
            "chmod +x bin/iclj\n",
            "mkdir -p /root/.local/share/jupyter/kernels/iclojure\n",
            "cp bin/iclj /root/.local/share/jupyter/kernels/iclojure/iclj\n",
            "sed 's|KERNEL|'/root/.local/share/jupyter/kernels/iclojure/iclj'|' resources/kernel.json > /root/.local/share/jupyter/kernels/iclojure/kernel.json;\\\n",
            "\n"
          ],
          "name": "stdout"
        }
      ]
    },
    {
      "metadata": {
        "id": "OGCczkCCcMED",
        "colab_type": "code",
        "outputId": "5bbc87c7-d126-4da4-ba5a-96f7d6c3cbc4",
        "colab": {
          "base_uri": "https://localhost:8080/",
          "height": 102
        }
      },
      "cell_type": "code",
      "source": [
        "!jupyter-kernelspec list"
      ],
      "execution_count": 5,
      "outputs": [
        {
          "output_type": "stream",
          "text": [
            "Available kernels:\n",
            "  iclojure    /root/.local/share/jupyter/kernels/iclojure\n",
            "  python2     /usr/local/share/jupyter/kernels/python2\n",
            "  python3     /usr/local/share/jupyter/kernels/python3\n",
            "  swift       /usr/local/share/jupyter/kernels/swift\n"
          ],
          "name": "stdout"
        }
      ]
    },
    {
      "metadata": {
        "id": "kwHM5gepeK-S",
        "colab_type": "text"
      },
      "cell_type": "markdown",
      "source": [
        "Next we need to install the depenencies that the MXnet linx cpu jar needs"
      ]
    },
    {
      "metadata": {
        "id": "GrOCJEC_htfs",
        "colab_type": "code",
        "outputId": "ed8eda96-c54b-4323-e19a-6ea01cd6d183",
        "colab": {
          "base_uri": "https://localhost:8080/",
          "height": 612
        }
      },
      "cell_type": "code",
      "source": [
        "!sudo add-apt-repository ppa:timsc/opencv-3.4"
      ],
      "execution_count": 6,
      "outputs": [
        {
          "output_type": "stream",
          "text": [
            " Based on https://launchpad.net/~sbadia/+archive/ubuntu/opencv\n",
            "\n",
            "Compiled with ffmpeg enabled for video decoding.\n",
            "\n",
            "Note: this repository does not include opencv_contrib which covers SIFT, SURF, etc.\n",
            "\n",
            "Add the PPA, then install the package libopencv-dev. \n",
            "\n",
            "Other versions and notes available here: http://www.kinatomic.com/k/opencv-ubuntu-ppa-repository.php\n",
            " More info: https://launchpad.net/~timsc/+archive/ubuntu/opencv-3.4\n",
            "Press [ENTER] to continue or Ctrl-c to cancel adding it.\n",
            "ENTER\n",
            "Ign:1 https://developer.download.nvidia.com/compute/cuda/repos/ubuntu1710/x86_64  InRelease\n",
            "Ign:2 https://developer.download.nvidia.com/compute/machine-learning/repos/ubuntu1604/x86_64  InRelease\n",
            "Hit:3 https://developer.download.nvidia.com/compute/cuda/repos/ubuntu1710/x86_64  Release\n",
            "Get:4 https://developer.download.nvidia.com/compute/machine-learning/repos/ubuntu1604/x86_64  Release [564 B]\n",
            "Get:5 https://developer.download.nvidia.com/compute/machine-learning/repos/ubuntu1604/x86_64  Release.gpg [801 B]\n",
            "Get:7 http://ppa.launchpad.net/graphics-drivers/ppa/ubuntu bionic InRelease [21.3 kB]\n",
            "Get:8 http://security.ubuntu.com/ubuntu bionic-security InRelease [88.7 kB]\n",
            "Get:9 https://developer.download.nvidia.com/compute/machine-learning/repos/ubuntu1604/x86_64  Packages [37.1 kB]\n",
            "Hit:10 http://archive.ubuntu.com/ubuntu bionic InRelease\n",
            "Get:11 http://archive.ubuntu.com/ubuntu bionic-updates InRelease [88.7 kB]\n",
            "Get:12 http://ppa.launchpad.net/timsc/opencv-3.4/ubuntu bionic InRelease [15.9 kB]\n",
            "Get:13 http://security.ubuntu.com/ubuntu bionic-security/universe amd64 Packages [143 kB]\n",
            "Get:14 http://archive.ubuntu.com/ubuntu bionic-backports InRelease [74.6 kB]\n",
            "Get:15 http://ppa.launchpad.net/graphics-drivers/ppa/ubuntu bionic/main amd64 Packages [27.3 kB]\n",
            "Get:16 http://security.ubuntu.com/ubuntu bionic-security/main amd64 Packages [317 kB]\n",
            "Get:17 http://archive.ubuntu.com/ubuntu bionic-updates/universe amd64 Packages [916 kB]\n",
            "Get:18 http://security.ubuntu.com/ubuntu bionic-security/multiverse amd64 Packages [3,451 B]\n",
            "Get:19 http://ppa.launchpad.net/timsc/opencv-3.4/ubuntu bionic/main amd64 Packages [11.1 kB]\n",
            "Get:20 http://archive.ubuntu.com/ubuntu bionic-updates/multiverse amd64 Packages [6,955 B]\n",
            "Get:21 http://archive.ubuntu.com/ubuntu bionic-updates/main amd64 Packages [652 kB]\n",
            "Get:22 http://archive.ubuntu.com/ubuntu bionic-backports/universe amd64 Packages [3,666 B]\n",
            "Fetched 2,407 kB in 2s (1,221 kB/s)\n",
            "Reading package lists... Done\n"
          ],
          "name": "stdout"
        }
      ]
    },
    {
      "metadata": {
        "id": "5GQIarvVhyp-",
        "colab_type": "code",
        "outputId": "11c73766-b653-44f5-cd9f-9f5679a8a0d3",
        "colab": {
          "base_uri": "https://localhost:8080/",
          "height": 204
        }
      },
      "cell_type": "code",
      "source": [
        "!sudo apt-get update"
      ],
      "execution_count": 7,
      "outputs": [
        {
          "output_type": "stream",
          "text": [
            "\r0% [Working]\r            \rIgn:1 https://developer.download.nvidia.com/compute/cuda/repos/ubuntu1710/x86_64  InRelease\n",
            "\r0% [Connecting to archive.ubuntu.com (91.189.88.161)] [Connecting to security.u\r                                                                               \rIgn:2 https://developer.download.nvidia.com/compute/machine-learning/repos/ubuntu1604/x86_64  InRelease\n",
            "\r0% [Connecting to archive.ubuntu.com (91.189.88.161)] [Connecting to security.u\r                                                                               \rHit:3 https://developer.download.nvidia.com/compute/cuda/repos/ubuntu1710/x86_64  Release\n",
            "\r0% [Waiting for headers] [Connecting to security.ubuntu.com (91.189.88.149)] [W\r0% [Release.gpg gpgv 564 B] [Waiting for headers] [Connecting to security.ubunt\r                                                                               \rHit:4 https://developer.download.nvidia.com/compute/machine-learning/repos/ubuntu1604/x86_64  Release\n",
            "\r0% [Release.gpg gpgv 564 B] [Waiting for headers] [Waiting for headers] [Waitin\r                                                                               \r0% [Waiting for headers] [Waiting for headers] [Waiting for headers]\r0% [Release.gpg gpgv 564 B] [Waiting for headers] [Waiting for headers] [Waitin\r                                                                               \rHit:6 http://archive.ubuntu.com/ubuntu bionic InRelease\n",
            "\r                                                                               \rHit:7 http://ppa.launchpad.net/graphics-drivers/ppa/ubuntu bionic InRelease\n",
            "Hit:8 http://security.ubuntu.com/ubuntu bionic-security InRelease\n",
            "Hit:10 http://archive.ubuntu.com/ubuntu bionic-updates InRelease\n",
            "Hit:11 http://ppa.launchpad.net/timsc/opencv-3.4/ubuntu bionic InRelease\n",
            "Hit:12 http://archive.ubuntu.com/ubuntu bionic-backports InRelease\n",
            "Reading package lists... Done\n"
          ],
          "name": "stdout"
        }
      ]
    },
    {
      "metadata": {
        "id": "p5xIOFath1SK",
        "colab_type": "code",
        "outputId": "7f3ba162-ca0a-496b-f205-e084596b19b5",
        "colab": {
          "base_uri": "https://localhost:8080/",
          "height": 629
        }
      },
      "cell_type": "code",
      "source": [
        "!sudo apt-get install -y libopencv-imgcodecs3.4 "
      ],
      "execution_count": 8,
      "outputs": [
        {
          "output_type": "stream",
          "text": [
            "Reading package lists... Done\n",
            "Building dependency tree       \n",
            "Reading state information... Done\n",
            "The following additional packages will be installed:\n",
            "  libopencv-core3.4 libopencv-imgproc3.4\n",
            "The following NEW packages will be installed:\n",
            "  libopencv-core3.4 libopencv-imgcodecs3.4 libopencv-imgproc3.4\n",
            "0 upgraded, 3 newly installed, 0 to remove and 99 not upgraded.\n",
            "Need to get 1,952 kB of archives.\n",
            "After this operation, 6,505 kB of additional disk space will be used.\n",
            "Get:1 http://ppa.launchpad.net/timsc/opencv-3.4/ubuntu bionic/main amd64 libopencv-core3.4 amd64 3.4.1-bionic1.1 [888 kB]\n",
            "Get:2 http://ppa.launchpad.net/timsc/opencv-3.4/ubuntu bionic/main amd64 libopencv-imgproc3.4 amd64 3.4.1-bionic1.1 [967 kB]\n",
            "Get:3 http://ppa.launchpad.net/timsc/opencv-3.4/ubuntu bionic/main amd64 libopencv-imgcodecs3.4 amd64 3.4.1-bionic1.1 [98.4 kB]\n",
            "Fetched 1,952 kB in 10s (197 kB/s)\n",
            "debconf: unable to initialize frontend: Dialog\n",
            "debconf: (No usable dialog-like program is installed, so the dialog based frontend cannot be used. at /usr/share/perl5/Debconf/FrontEnd/Dialog.pm line 76, <> line 3.)\n",
            "debconf: falling back to frontend: Readline\n",
            "debconf: unable to initialize frontend: Readline\n",
            "debconf: (This frontend requires a controlling tty.)\n",
            "debconf: falling back to frontend: Teletype\n",
            "dpkg-preconfigure: unable to re-open stdin: \n",
            "Selecting previously unselected package libopencv-core3.4:amd64.\n",
            "(Reading database ... 110851 files and directories currently installed.)\n",
            "Preparing to unpack .../libopencv-core3.4_3.4.1-bionic1.1_amd64.deb ...\n",
            "Unpacking libopencv-core3.4:amd64 (3.4.1-bionic1.1) ...\n",
            "Selecting previously unselected package libopencv-imgproc3.4:amd64.\n",
            "Preparing to unpack .../libopencv-imgproc3.4_3.4.1-bionic1.1_amd64.deb ...\n",
            "Unpacking libopencv-imgproc3.4:amd64 (3.4.1-bionic1.1) ...\n",
            "Selecting previously unselected package libopencv-imgcodecs3.4:amd64.\n",
            "Preparing to unpack .../libopencv-imgcodecs3.4_3.4.1-bionic1.1_amd64.deb ...\n",
            "Unpacking libopencv-imgcodecs3.4:amd64 (3.4.1-bionic1.1) ...\n",
            "Setting up libopencv-core3.4:amd64 (3.4.1-bionic1.1) ...\n",
            "Setting up libopencv-imgproc3.4:amd64 (3.4.1-bionic1.1) ...\n",
            "Processing triggers for libc-bin (2.27-3ubuntu1) ...\n",
            "Setting up libopencv-imgcodecs3.4:amd64 (3.4.1-bionic1.1) ...\n",
            "Processing triggers for libc-bin (2.27-3ubuntu1) ...\n"
          ],
          "name": "stdout"
        }
      ]
    },
    {
      "metadata": {
        "id": "27_AgGyfkO_M",
        "colab_type": "code",
        "outputId": "aad875d1-e457-4bc6-c966-58dc1c060d51",
        "colab": {
          "base_uri": "https://localhost:8080/",
          "height": 204
        }
      },
      "cell_type": "code",
      "source": [
        "!sudo apt-get update || true\n"
      ],
      "execution_count": 9,
      "outputs": [
        {
          "output_type": "stream",
          "text": [
            "\r0% [Working]\r            \rIgn:1 https://developer.download.nvidia.com/compute/cuda/repos/ubuntu1710/x86_64  InRelease\n",
            "\r0% [Connecting to archive.ubuntu.com (91.189.88.161)] [Connecting to security.u\r                                                                               \rIgn:2 https://developer.download.nvidia.com/compute/machine-learning/repos/ubuntu1604/x86_64  InRelease\n",
            "\r0% [Connecting to archive.ubuntu.com (91.189.88.161)] [Connecting to security.u\r                                                                               \rHit:3 https://developer.download.nvidia.com/compute/cuda/repos/ubuntu1710/x86_64  Release\n",
            "Hit:4 https://developer.download.nvidia.com/compute/machine-learning/repos/ubuntu1604/x86_64  Release\n",
            "Hit:6 http://archive.ubuntu.com/ubuntu bionic InRelease\n",
            "Hit:7 http://ppa.launchpad.net/graphics-drivers/ppa/ubuntu bionic InRelease\n",
            "Hit:8 http://security.ubuntu.com/ubuntu bionic-security InRelease\n",
            "Hit:10 http://archive.ubuntu.com/ubuntu bionic-updates InRelease\n",
            "Hit:11 http://archive.ubuntu.com/ubuntu bionic-backports InRelease\n",
            "Hit:12 http://ppa.launchpad.net/timsc/opencv-3.4/ubuntu bionic InRelease\n",
            "Reading package lists... Done\n"
          ],
          "name": "stdout"
        }
      ]
    },
    {
      "metadata": {
        "id": "iToyzbZUkYTQ",
        "colab_type": "code",
        "outputId": "2daaa351-81d8-4e27-84aa-217102a5e7a5",
        "colab": {
          "base_uri": "https://localhost:8080/",
          "height": 1394
        }
      },
      "cell_type": "code",
      "source": [
        "!sudo apt-get install -y build-essential\n",
        "!sudo apt-get install -y software-properties-common\n",
        "!sudo apt-get install -y libatlas-base-dev \n",
        "!sudo apt-get install -y libopenblas-dev\n",
        "!sudo apt-get install -y libcurl3"
      ],
      "execution_count": 10,
      "outputs": [
        {
          "output_type": "stream",
          "text": [
            "Reading package lists... Done\n",
            "Building dependency tree       \n",
            "Reading state information... Done\n",
            "build-essential is already the newest version (12.4ubuntu1).\n",
            "0 upgraded, 0 newly installed, 0 to remove and 99 not upgraded.\n",
            "Reading package lists... Done\n",
            "Building dependency tree       \n",
            "Reading state information... Done\n",
            "The following additional packages will be installed:\n",
            "  python3-software-properties\n",
            "Recommended packages:\n",
            "  unattended-upgrades\n",
            "The following packages will be upgraded:\n",
            "  python3-software-properties software-properties-common\n",
            "2 upgraded, 0 newly installed, 0 to remove and 97 not upgraded.\n",
            "Need to get 31.9 kB of archives.\n",
            "After this operation, 0 B of additional disk space will be used.\n",
            "Get:1 http://archive.ubuntu.com/ubuntu bionic-updates/main amd64 software-properties-common all 0.96.24.32.7 [9,908 B]\n",
            "Get:2 http://archive.ubuntu.com/ubuntu bionic-updates/main amd64 python3-software-properties all 0.96.24.32.7 [22.0 kB]\n",
            "Fetched 31.9 kB in 1s (57.6 kB/s)\n",
            "debconf: unable to initialize frontend: Dialog\n",
            "debconf: (No usable dialog-like program is installed, so the dialog based frontend cannot be used. at /usr/share/perl5/Debconf/FrontEnd/Dialog.pm line 76, <> line 2.)\n",
            "debconf: falling back to frontend: Readline\n",
            "debconf: unable to initialize frontend: Readline\n",
            "debconf: (This frontend requires a controlling tty.)\n",
            "debconf: falling back to frontend: Teletype\n",
            "dpkg-preconfigure: unable to re-open stdin: \n",
            "(Reading database ... 110866 files and directories currently installed.)\n",
            "Preparing to unpack .../software-properties-common_0.96.24.32.7_all.deb ...\n",
            "Unpacking software-properties-common (0.96.24.32.7) over (0.96.24.32.6) ...\n",
            "Preparing to unpack .../python3-software-properties_0.96.24.32.7_all.deb ...\n",
            "Unpacking python3-software-properties (0.96.24.32.7) over (0.96.24.32.6) ...\n",
            "Processing triggers for man-db (2.8.3-2ubuntu0.1) ...\n",
            "Setting up python3-software-properties (0.96.24.32.7) ...\n",
            "Processing triggers for dbus (1.12.2-1ubuntu1) ...\n",
            "Setting up software-properties-common (0.96.24.32.7) ...\n",
            "Reading package lists... Done\n",
            "Building dependency tree       \n",
            "Reading state information... Done\n",
            "libatlas-base-dev is already the newest version (3.10.3-5).\n",
            "0 upgraded, 0 newly installed, 0 to remove and 97 not upgraded.\n",
            "Reading package lists... Done\n",
            "Building dependency tree       \n",
            "Reading state information... Done\n",
            "libopenblas-dev is already the newest version (0.2.20+ds-4).\n",
            "0 upgraded, 0 newly installed, 0 to remove and 97 not upgraded.\n",
            "Reading package lists... Done\n",
            "Building dependency tree       \n",
            "Reading state information... Done\n",
            "The following packages were automatically installed and are no longer required:\n",
            "  cmake-data libarchive13 libgoogle-perftools4 liblzo2-2 librhash0\n",
            "  libtcmalloc-minimal4 libunwind8 libuv1\n",
            "Use 'sudo apt autoremove' to remove them.\n",
            "The following packages will be REMOVED:\n",
            "  cmake curl google-perftools libcurl4\n",
            "The following NEW packages will be installed:\n",
            "  libcurl3\n",
            "0 upgraded, 1 newly installed, 4 to remove and 97 not upgraded.\n",
            "Need to get 214 kB of archives.\n",
            "After this operation, 18.5 MB disk space will be freed.\n",
            "Get:1 http://archive.ubuntu.com/ubuntu bionic/universe amd64 libcurl3 amd64 7.58.0-2ubuntu2 [214 kB]\n",
            "Fetched 214 kB in 1s (248 kB/s)\n",
            "debconf: unable to initialize frontend: Dialog\n",
            "debconf: (No usable dialog-like program is installed, so the dialog based frontend cannot be used. at /usr/share/perl5/Debconf/FrontEnd/Dialog.pm line 76, <> line 1.)\n",
            "debconf: falling back to frontend: Readline\n",
            "debconf: unable to initialize frontend: Readline\n",
            "debconf: (This frontend requires a controlling tty.)\n",
            "debconf: falling back to frontend: Teletype\n",
            "dpkg-preconfigure: unable to re-open stdin: \n",
            "(Reading database ... 110866 files and directories currently installed.)\n",
            "Removing cmake (3.10.2-1ubuntu2) ...\n",
            "Removing google-perftools (2.5-2.2ubuntu3) ...\n",
            "Removing curl (7.58.0-2ubuntu3.5) ...\n",
            "Removing libcurl4:amd64 (7.58.0-2ubuntu3.5) ...\n",
            "Selecting previously unselected package libcurl3:amd64.\n",
            "(Reading database ... 110784 files and directories currently installed.)\n",
            "Preparing to unpack .../libcurl3_7.58.0-2ubuntu2_amd64.deb ...\n",
            "Unpacking libcurl3:amd64 (7.58.0-2ubuntu2) ...\n",
            "Setting up libcurl3:amd64 (7.58.0-2ubuntu2) ...\n",
            "Processing triggers for libc-bin (2.27-3ubuntu1) ...\n",
            "Processing triggers for man-db (2.8.3-2ubuntu0.1) ...\n"
          ],
          "name": "stdout"
        }
      ]
    }
  ]
}