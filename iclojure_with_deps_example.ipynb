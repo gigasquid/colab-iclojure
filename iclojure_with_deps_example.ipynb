{
  "nbformat": 4,
  "nbformat_minor": 0,
  "metadata": {
    "colab": {
      "name": "iclojure_with_deps-example.ipynb",
      "version": "0.3.2",
      "provenance": [],
      "collapsed_sections": []
    },
    "kernelspec": {
      "display_name": "Clojure",
      "language": "iclojure",
      "name": "iclojure"
    }
  },
  "cells": [
    {
      "metadata": {
        "id": "3Q_koIY3SnDv",
        "colab_type": "text"
      },
      "cell_type": "markdown",
      "source": [
        "# IClojure Demo\n",
        "\n",
        "This is a Clojure notebook"
      ]
    },
    {
      "metadata": {
        "id": "z2QwPUbVTVtN",
        "colab_type": "code",
        "outputId": "2f7f96e1-a837-4d12-fb22-9d4ef649be29",
        "colab": {
          "base_uri": "https://localhost:8080/",
          "height": 34
        }
      },
      "cell_type": "code",
      "source": [
        "(+ 1 1)"
      ],
      "execution_count": 0,
      "outputs": [
        {
          "output_type": "execute_result",
          "data": {
            "text/iclojure-html": "<ul><li class='misc'>2</ul>",
            "text/plain": [
              "2\n"
            ],
            "application/octet-stream": null
          },
          "metadata": {
            "tags": []
          },
          "execution_count": 12
        }
      ]
    },
    {
      "metadata": {
        "id": "m9vCRACNfnPP",
        "colab_type": "code",
        "outputId": "b9a4ad89-00fa-4cc2-f565-1e310355a9cb",
        "colab": {
          "base_uri": "https://localhost:8080/",
          "height": 54
        }
      },
      "cell_type": "code",
      "source": [
        "/cp {:paths [\"resources\" \"src\"]\n",
        "     :deps {org.clojure/clojure {:mvn/version \"RELEASE\"}\n",
        "            camel-snake-kebab    {:mvn/version \"0.4.0\"}}}\n"
      ],
      "execution_count": 0,
      "outputs": [
        {
          "output_type": "stream",
          "text": [
            "[\"/root/.m2/repository/org/clojure/clojure/1.10.0/clojure-1.10.0.jar\" \"/root/.m2/repository/camel-snake-kebab/camel-snake-kebab/0.4.0/camel-snake-kebab-0.4.0.jar\" \"/root/.m2/repository/org/clojure/spec.alpha/0.2.176/spec.alpha-0.2.176.jar\" \"/root/.m2/repository/org/clojure/core.specs.alpha/0.2.44/core.specs.alpha-0.2.44.jar\"] added to the classpath!"
          ],
          "name": "stdout"
        }
      ]
    },
    {
      "metadata": {
        "id": "--hxGSa_foca",
        "colab_type": "code",
        "outputId": "3fff7dea-3b50-4711-e17e-ce7b73312e0d",
        "colab": {
          "base_uri": "https://localhost:8080/",
          "height": 34
        }
      },
      "cell_type": "code",
      "source": [
        "(use 'camel-snake-kebab.core)"
      ],
      "execution_count": 0,
      "outputs": [
        {
          "output_type": "execute_result",
          "data": {
            "text/iclojure-html": "<ul><li class='misc'>nil</ul>",
            "text/plain": [
              "nil\n"
            ],
            "application/octet-stream": null
          },
          "metadata": {
            "tags": []
          },
          "execution_count": 44
        }
      ]
    },
    {
      "metadata": {
        "id": "Bx1BrDnVfvbZ",
        "colab_type": "code",
        "outputId": "33cd92d7-8bbf-49c5-8f7f-0d3da8dd9276",
        "colab": {
          "base_uri": "https://localhost:8080/",
          "height": 34
        }
      },
      "cell_type": "code",
      "source": [
        "(->camelCase 'flux-capacitor)"
      ],
      "execution_count": 0,
      "outputs": [
        {
          "output_type": "execute_result",
          "data": {
            "text/iclojure-html": "<ul><li class=symbol>fluxCapacitor</ul>",
            "text/plain": [
              "fluxCapacitor\n"
            ],
            "application/octet-stream": null
          },
          "metadata": {
            "tags": []
          },
          "execution_count": 46
        }
      ]
    }
  ]
}