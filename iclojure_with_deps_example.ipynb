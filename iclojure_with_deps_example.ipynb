{
  "nbformat": 4,
  "nbformat_minor": 0,
  "metadata": {
    "colab": {
      "name": "iclojure_with_deps-example.ipynb",
      "version": "0.3.2",
      "provenance": [],
      "collapsed_sections": []
    },
    "kernelspec": {
      "display_name": "Clojure",
      "language": "iclojure",
      "name": "iclojure"
    }
  },
  "cells": [
    {
      "metadata": {
        "id": "3Q_koIY3SnDv",
        "colab_type": "text"
      },
      "cell_type": "markdown",
      "source": [
        "# IClojure Demo\n",
        "\n",
        "This is a Clojure notebook"
      ]
    },
    {
      "metadata": {
        "id": "z2QwPUbVTVtN",
        "colab_type": "code",
        "outputId": "23becf2d-bee4-480b-ec51-e4fe4d843f4e",
        "colab": {
          "base_uri": "https://localhost:8080/",
          "height": 34
        }
      },
      "cell_type": "code",
      "source": [
        "(+ 1 1)"
      ],
      "execution_count": 4,
      "outputs": [
        {
          "output_type": "execute_result",
          "data": {
            "text/iclojure-html": "<ul><li class='misc'>2</ul>",
            "text/plain": [
              "2\n"
            ],
            "application/octet-stream": null
          },
          "metadata": {
            "tags": []
          },
          "execution_count": 4
        }
      ]
    },
    {
      "metadata": {
        "id": "pUxj0lKJY4MW",
        "colab_type": "text"
      },
      "cell_type": "markdown",
      "source": [
        "You can execute the cell below to add depenencies to your runtime. The cell will still show as running even when it is done. Just ignore or delete it after you are done."
      ]
    },
    {
      "metadata": {
        "id": "m9vCRACNfnPP",
        "colab_type": "code",
        "outputId": "eb40e96b-3f04-469c-eb53-6ebb41706765",
        "colab": {
          "base_uri": "https://localhost:8080/",
          "height": 54
        }
      },
      "cell_type": "code",
      "source": [
        "/cp {:paths [\"resources\" \"src\"]\n",
        "     :deps {org.clojure/clojure {:mvn/version \"RELEASE\"}\n",
        "            camel-snake-kebab    {:mvn/version \"0.4.0\"}}}\n"
      ],
      "execution_count": 0,
      "outputs": [
        {
          "output_type": "stream",
          "text": [
            "[\"/root/.m2/repository/org/clojure/clojure/1.10.0/clojure-1.10.0.jar\" \"/root/.m2/repository/camel-snake-kebab/camel-snake-kebab/0.4.0/camel-snake-kebab-0.4.0.jar\" \"/root/.m2/repository/org/clojure/spec.alpha/0.2.176/spec.alpha-0.2.176.jar\" \"/root/.m2/repository/org/clojure/core.specs.alpha/0.2.44/core.specs.alpha-0.2.44.jar\"] added to the classpath!"
          ],
          "name": "stdout"
        }
      ]
    },
    {
      "metadata": {
        "id": "--hxGSa_foca",
        "colab_type": "code",
        "outputId": "e5ce9771-fbcd-4208-a82a-d59329e84870",
        "colab": {
          "base_uri": "https://localhost:8080/",
          "height": 34
        }
      },
      "cell_type": "code",
      "source": [
        "(use 'camel-snake-kebab.core)"
      ],
      "execution_count": 8,
      "outputs": [
        {
          "output_type": "execute_result",
          "data": {
            "text/iclojure-html": "<ul><li class='misc'>nil</ul>",
            "text/plain": [
              "nil\n"
            ],
            "application/octet-stream": null
          },
          "metadata": {
            "tags": []
          },
          "execution_count": 8
        }
      ]
    },
    {
      "metadata": {
        "id": "Bx1BrDnVfvbZ",
        "colab_type": "code",
        "outputId": "b4fd9e35-bc3a-451d-d9c0-b140b04c4fdd",
        "colab": {
          "base_uri": "https://localhost:8080/",
          "height": 34
        }
      },
      "cell_type": "code",
      "source": [
        "(->camelCase 'flux-capacitor)"
      ],
      "execution_count": 10,
      "outputs": [
        {
          "output_type": "execute_result",
          "data": {
            "text/iclojure-html": "<ul><li class=symbol>fluxCapacitor</ul>",
            "text/plain": [
              "fluxCapacitor\n"
            ],
            "application/octet-stream": null
          },
          "metadata": {
            "tags": []
          },
          "execution_count": 10
        }
      ]
    }
  ]
}