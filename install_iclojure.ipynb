{
  "nbformat": 4,
  "nbformat_minor": 0,
  "metadata": {
    "colab": {
      "name": "install-iclojure.ipynb",
      "version": "0.3.2",
      "provenance": []
    },
    "kernelspec": {
      "name": "python3",
      "display_name": "Python 3"
    }
  },
  "cells": [
    {
      "metadata": {
        "id": "JC2I0AIZY8dy",
        "colab_type": "code",
        "outputId": "aef6a627-bcec-4fd1-f8ee-cb0e941fcf17",
        "colab": {
          "base_uri": "https://localhost:8080/",
          "height": 85
        }
      },
      "cell_type": "code",
      "source": [
        "!jupyter-kernelspec list"
      ],
      "execution_count": 1,
      "outputs": [
        {
          "output_type": "stream",
          "text": [
            "Available kernels:\n",
            "  python2    /usr/local/share/jupyter/kernels/python2\n",
            "  python3    /usr/local/share/jupyter/kernels/python3\n",
            "  swift      /usr/local/share/jupyter/kernels/swift\n"
          ],
          "name": "stdout"
        }
      ]
    },
    {
      "metadata": {
        "id": "vGF0uglgZFrm",
        "colab_type": "code",
        "colab": {
          "base_uri": "https://localhost:8080/",
          "height": 204
        },
        "outputId": "cbaecf2e-5aff-4a89-c800-51e00ab553ef"
      },
      "cell_type": "code",
      "source": [
        "!wget https://raw.githubusercontent.com/technomancy/leiningen/stable/bin/lein; chmod 755 lein; mv lein /usr/local/bin/."
      ],
      "execution_count": 2,
      "outputs": [
        {
          "output_type": "stream",
          "text": [
            "--2019-01-31 00:44:04--  https://raw.githubusercontent.com/technomancy/leiningen/stable/bin/lein\n",
            "Resolving raw.githubusercontent.com (raw.githubusercontent.com)... 151.101.0.133, 151.101.64.133, 151.101.128.133, ...\n",
            "Connecting to raw.githubusercontent.com (raw.githubusercontent.com)|151.101.0.133|:443... connected.\n",
            "HTTP request sent, awaiting response... 200 OK\n",
            "Length: 12538 (12K) [text/plain]\n",
            "Saving to: ‘lein’\n",
            "\n",
            "\rlein                  0%[                    ]       0  --.-KB/s               \rlein                100%[===================>]  12.24K  --.-KB/s    in 0s      \n",
            "\n",
            "2019-01-31 00:44:04 (148 MB/s) - ‘lein’ saved [12538/12538]\n",
            "\n"
          ],
          "name": "stdout"
        }
      ]
    },
    {
      "metadata": {
        "id": "_XoDaQe0ZL6D",
        "colab_type": "code",
        "colab": {
          "base_uri": "https://localhost:8080/",
          "height": 136
        },
        "outputId": "b2e57ab9-50fa-4d0c-ed54-1660fe04d82e"
      },
      "cell_type": "code",
      "source": [
        "!git clone https://github.com/HCADatalab/IClojure"
      ],
      "execution_count": 3,
      "outputs": [
        {
          "output_type": "stream",
          "text": [
            "Cloning into 'IClojure'...\n",
            "remote: Enumerating objects: 193, done.\u001b[K\n",
            "remote: Counting objects: 100% (193/193), done.\u001b[K\n",
            "remote: Compressing objects: 100% (103/103), done.\u001b[K\n",
            "remote: Total 193 (delta 82), reused 167 (delta 59), pack-reused 0\u001b[K\n",
            "Receiving objects: 100% (193/193), 505.94 KiB | 15.33 MiB/s, done.\n",
            "Resolving deltas: 100% (82/82), done.\n"
          ],
          "name": "stdout"
        }
      ]
    },
    {
      "metadata": {
        "id": "IGBIgKBmZO_q",
        "colab_type": "code",
        "colab": {}
      },
      "cell_type": "code",
      "source": [
        "!cd IClojure; make; make install; cd .."
      ],
      "execution_count": 0,
      "outputs": []
    },
    {
      "metadata": {
        "id": "yecpZ5UHXK2X",
        "colab_type": "text"
      },
      "cell_type": "markdown",
      "source": [
        "This should list iclojure as a runtime now"
      ]
    },
    {
      "metadata": {
        "id": "SIyZlNaYWXwj",
        "colab_type": "code",
        "colab": {}
      },
      "cell_type": "code",
      "source": [
        "!jupyter-kernelspec list"
      ],
      "execution_count": 0,
      "outputs": []
    }
  ]
}