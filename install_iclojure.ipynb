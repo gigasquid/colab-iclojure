{
  "nbformat": 4,
  "nbformat_minor": 0,
  "metadata": {
    "colab": {
      "name": "install-iclojure.ipynb",
      "version": "0.3.2",
      "provenance": []
    },
    "kernelspec": {
      "name": "python3",
      "display_name": "Python 3"
    }
  },
  "cells": [
    {
      "metadata": {
        "id": "JC2I0AIZY8dy",
        "colab_type": "code",
        "outputId": "60d6dcca-233f-45cc-a7d8-4df40044002f",
        "colab": {
          "base_uri": "https://localhost:8080/",
          "height": 119
        }
      },
      "cell_type": "code",
      "source": [
        "!jupyter-kernelspec list"
      ],
      "execution_count": 0,
      "outputs": [
        {
          "output_type": "stream",
          "text": [
            "Available kernels:\n",
            "  clojure     /root/.local/share/jupyter/kernels/clojure\n",
            "  iclojure    /root/.local/share/jupyter/kernels/iclojure\n",
            "  python2     /usr/local/share/jupyter/kernels/python2\n",
            "  python3     /usr/local/share/jupyter/kernels/python3\n",
            "  swift       /usr/local/share/jupyter/kernels/swift\n"
          ],
          "name": "stdout"
        }
      ]
    },
    {
      "metadata": {
        "id": "vGF0uglgZFrm",
        "colab_type": "code",
        "colab": {}
      },
      "cell_type": "code",
      "source": [
        "!wget https://raw.githubusercontent.com/technomancy/leiningen/stable/bin/lein; chmod 755 lein; mv lein /usr/local/bin/."
      ],
      "execution_count": 0,
      "outputs": []
    },
    {
      "metadata": {
        "id": "_XoDaQe0ZL6D",
        "colab_type": "code",
        "colab": {}
      },
      "cell_type": "code",
      "source": [
        "!git clone https://github.com/HCADatalab/IClojure"
      ],
      "execution_count": 0,
      "outputs": []
    },
    {
      "metadata": {
        "id": "IGBIgKBmZO_q",
        "colab_type": "code",
        "colab": {}
      },
      "cell_type": "code",
      "source": [
        "!cd IClojure; make; make install; cd .."
      ],
      "execution_count": 0,
      "outputs": []
    },
    {
      "metadata": {
        "id": "SIyZlNaYWXwj",
        "colab_type": "code",
        "colab": {}
      },
      "cell_type": "code",
      "source": [
        "!jupyter-kernelspec list"
      ],
      "execution_count": 0,
      "outputs": []
    }
  ]
}